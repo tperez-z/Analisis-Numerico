{
 "cells": [
  {
   "cell_type": "code",
   "execution_count": 2,
   "metadata": {},
   "outputs": [],
   "source": [
    "%matplotlib inline\n",
    "from graficasdeproceso import *\n",
    "import sympy as sm"
   ]
  },
  {
   "cell_type": "markdown",
   "metadata": {},
   "source": [
    "Ej 2"
   ]
  },
  {
   "cell_type": "markdown",
   "metadata": {},
   "source": [
    "a)"
   ]
  },
  {
   "cell_type": "code",
   "execution_count": 3,
   "metadata": {},
   "outputs": [
    {
     "data": {
      "text/latex": [
       "$\\displaystyle \\text{Errores Inherentes: }[ix, iy]$"
      ],
      "text/plain": [
       "<IPython.core.display.Math object>"
      ]
     },
     "metadata": {},
     "output_type": "display_data"
    },
    {
     "data": {
      "text/latex": [
       "$\\displaystyle \\text{Operaciones: }\\left[ x + y\\right]$"
      ],
      "text/plain": [
       "<IPython.core.display.Math object>"
      ]
     },
     "metadata": {},
     "output_type": "display_data"
    },
    {
     "data": {
      "text/latex": [
       "$\\displaystyle \\frac{ix \\cdot x}{x + y} + \\frac{iy \\cdot y}{x + y}$"
      ],
      "text/plain": [
       "<IPython.core.display.Math object>"
      ]
     },
     "metadata": {},
     "output_type": "display_data"
    },
    {
     "data": {
      "application/vnd.jupyter.widget-view+json": {
       "model_id": "a4189dbb233d44d6ab4f2bf432982ecb",
       "version_major": 2,
       "version_minor": 0
      },
      "text/plain": [
       "interactive(children=(IntSlider(value=8, description='width', max=24, min=-8), IntSlider(value=8, description=…"
      ]
     },
     "metadata": {},
     "output_type": "display_data"
    }
   ],
   "source": [
    "suma = GraficaDeProceso( ['x','y'] , ['x + y'])\n",
    "suma.ErrorInherente()\n",
    "suma.mostrar(8)"
   ]
  },
  {
   "cell_type": "markdown",
   "metadata": {},
   "source": [
    "b)"
   ]
  },
  {
   "cell_type": "code",
   "execution_count": 4,
   "metadata": {},
   "outputs": [
    {
     "data": {
      "text/latex": [
       "$\\displaystyle \\text{Errores Inherentes: }[ix, iy]$"
      ],
      "text/plain": [
       "<IPython.core.display.Math object>"
      ]
     },
     "metadata": {},
     "output_type": "display_data"
    },
    {
     "data": {
      "text/latex": [
       "$\\displaystyle \\text{Operaciones: }\\left[ x - y\\right]$"
      ],
      "text/plain": [
       "<IPython.core.display.Math object>"
      ]
     },
     "metadata": {},
     "output_type": "display_data"
    },
    {
     "data": {
      "text/latex": [
       "$\\displaystyle \\frac{ix \\cdot x}{x - y} - \\frac{iy \\cdot y}{x - y}$"
      ],
      "text/plain": [
       "<IPython.core.display.Math object>"
      ]
     },
     "metadata": {},
     "output_type": "display_data"
    },
    {
     "data": {
      "application/vnd.jupyter.widget-view+json": {
       "model_id": "41f77382d4e2404aa6f97c0754a575e9",
       "version_major": 2,
       "version_minor": 0
      },
      "text/plain": [
       "interactive(children=(IntSlider(value=10, description='width', max=30, min=-10), IntSlider(value=10, descripti…"
      ]
     },
     "metadata": {},
     "output_type": "display_data"
    }
   ],
   "source": [
    "resta= GraficaDeProceso(['x','y'], ['x-y'])\n",
    "resta.ErrorInherente()\n",
    "resta.mostrar()"
   ]
  },
  {
   "cell_type": "markdown",
   "metadata": {},
   "source": [
    "c)"
   ]
  },
  {
   "cell_type": "code",
   "execution_count": 5,
   "metadata": {},
   "outputs": [
    {
     "data": {
      "text/latex": [
       "$\\displaystyle \\text{Errores Inherentes: }[ix, iy]$"
      ],
      "text/plain": [
       "<IPython.core.display.Math object>"
      ]
     },
     "metadata": {},
     "output_type": "display_data"
    },
    {
     "data": {
      "text/latex": [
       "$\\displaystyle \\text{Operaciones: }\\left[ x \\cdot y\\right]$"
      ],
      "text/plain": [
       "<IPython.core.display.Math object>"
      ]
     },
     "metadata": {},
     "output_type": "display_data"
    },
    {
     "data": {
      "text/latex": [
       "$\\displaystyle ix + iy$"
      ],
      "text/plain": [
       "<IPython.core.display.Math object>"
      ]
     },
     "metadata": {},
     "output_type": "display_data"
    },
    {
     "data": {
      "application/vnd.jupyter.widget-view+json": {
       "model_id": "5598d2e5c9bf4fa2a2b938e4db0a65de",
       "version_major": 2,
       "version_minor": 0
      },
      "text/plain": [
       "interactive(children=(IntSlider(value=8, description='width', max=24, min=-8), IntSlider(value=8, description=…"
      ]
     },
     "metadata": {},
     "output_type": "display_data"
    }
   ],
   "source": [
    "producto=GraficaDeProceso(['x','y'],['x*y'])\n",
    "producto.ErrorInherente()\n",
    "producto.mostrar(8)"
   ]
  },
  {
   "cell_type": "markdown",
   "metadata": {},
   "source": [
    "d)"
   ]
  },
  {
   "cell_type": "code",
   "execution_count": 6,
   "metadata": {},
   "outputs": [
    {
     "data": {
      "text/latex": [
       "$\\displaystyle \\text{Errores Inherentes: }[ix, iy]$"
      ],
      "text/plain": [
       "<IPython.core.display.Math object>"
      ]
     },
     "metadata": {},
     "output_type": "display_data"
    },
    {
     "data": {
      "text/latex": [
       "$\\displaystyle \\text{Operaciones: }\\left[ \\frac{x}{y}\\right]$"
      ],
      "text/plain": [
       "<IPython.core.display.Math object>"
      ]
     },
     "metadata": {},
     "output_type": "display_data"
    },
    {
     "data": {
      "text/latex": [
       "$\\displaystyle ix - iy$"
      ],
      "text/plain": [
       "<IPython.core.display.Math object>"
      ]
     },
     "metadata": {},
     "output_type": "display_data"
    },
    {
     "data": {
      "application/vnd.jupyter.widget-view+json": {
       "model_id": "dc820c85ad7640738649a7165646e0d7",
       "version_major": 2,
       "version_minor": 0
      },
      "text/plain": [
       "interactive(children=(IntSlider(value=10, description='width', max=30, min=-10), IntSlider(value=10, descripti…"
      ]
     },
     "metadata": {},
     "output_type": "display_data"
    }
   ],
   "source": [
    "producto=GraficaDeProceso(['x','y'],['x/y'])\n",
    "producto.ErrorInherente()\n",
    "producto.mostrar()"
   ]
  },
  {
   "cell_type": "markdown",
   "metadata": {},
   "source": [
    "e)"
   ]
  },
  {
   "cell_type": "code",
   "execution_count": 7,
   "metadata": {},
   "outputs": [
    {
     "data": {
      "text/latex": [
       "$\\displaystyle \\text{Errores Inherentes: }[ix, iy, iz]$"
      ],
      "text/plain": [
       "<IPython.core.display.Math object>"
      ]
     },
     "metadata": {},
     "output_type": "display_data"
    },
    {
     "data": {
      "text/latex": [
       "$\\displaystyle \\text{Operaciones: }\\left[ x^{2}\\right]$"
      ],
      "text/plain": [
       "<IPython.core.display.Math object>"
      ]
     },
     "metadata": {},
     "output_type": "display_data"
    },
    {
     "data": {
      "text/latex": [
       "$\\displaystyle 2 \\cdot ix$"
      ],
      "text/plain": [
       "<IPython.core.display.Math object>"
      ]
     },
     "metadata": {},
     "output_type": "display_data"
    },
    {
     "data": {
      "application/vnd.jupyter.widget-view+json": {
       "model_id": "569d86e753b4488d87e81be059e6327f",
       "version_major": 2,
       "version_minor": 0
      },
      "text/plain": [
       "interactive(children=(IntSlider(value=10, description='width', max=30, min=-10), IntSlider(value=10, descripti…"
      ]
     },
     "metadata": {},
     "output_type": "display_data"
    }
   ],
   "source": [
    "alg1=GraficaDeProceso(['x','y','z'], ['x*x'])\n",
    "alg1.ErrorInherente()\n",
    "alg1.mostrar()\n",
    "\n"
   ]
  },
  {
   "cell_type": "code",
   "execution_count": 12,
   "metadata": {},
   "outputs": [
    {
     "data": {
      "text/latex": [
       "$\\displaystyle \\text{Errores Inherentes: }[ix, iy, iz]$"
      ],
      "text/plain": [
       "<IPython.core.display.Math object>"
      ]
     },
     "metadata": {},
     "output_type": "display_data"
    },
    {
     "data": {
      "text/latex": [
       "$\\displaystyle \\text{Operaciones: }\\left[ x^{2}, \\  x^{2} \\cdot z, \\  y^{2}, \\  y^{2} \\cdot z, \\  x^{2} \\cdot z - y^{2} \\cdot z\\right]$"
      ],
      "text/plain": [
       "<IPython.core.display.Math object>"
      ]
     },
     "metadata": {},
     "output_type": "display_data"
    },
    {
     "data": {
      "text/latex": [
       "$\\displaystyle \\frac{2 \\cdot ix \\cdot x^{2} \\cdot z}{x^{2} \\cdot z - y^{2} \\cdot z} - \\frac{2 \\cdot iy \\cdot y^{2} \\cdot z}{x^{2} \\cdot z - y^{2} \\cdot z} + iz \\cdot \\left(\\frac{x^{2} \\cdot z}{x^{2} \\cdot z - y^{2} \\cdot z} - \\frac{y^{2} \\cdot z}{x^{2} \\cdot z - y^{2} \\cdot z}\\right)$"
      ],
      "text/plain": [
       "<IPython.core.display.Math object>"
      ]
     },
     "metadata": {},
     "output_type": "display_data"
    },
    {
     "data": {
      "text/latex": [
       "$\\displaystyle \\frac{\\mu_{0} \\cdot x^{2} \\cdot z}{x^{2} \\cdot z - y^{2} \\cdot z} + \\frac{\\mu_{1} \\cdot x^{2} \\cdot z}{x^{2} \\cdot z - y^{2} \\cdot z} - \\frac{\\mu_{2} \\cdot y^{2} \\cdot z}{x^{2} \\cdot z - y^{2} \\cdot z} - \\frac{\\mu_{3} \\cdot y^{2} \\cdot z}{x^{2} \\cdot z - y^{2} \\cdot z} + \\mu_{4}$"
      ],
      "text/plain": [
       "<IPython.core.display.Math object>"
      ]
     },
     "metadata": {},
     "output_type": "display_data"
    },
    {
     "data": {
      "text/latex": [
       "$\\displaystyle e_{total} = \\frac{2 \\cdot ix \\cdot x^{2} \\cdot z}{x^{2} \\cdot z - y^{2} \\cdot z} - \\frac{2 \\cdot iy \\cdot y^{2} \\cdot z}{x^{2} \\cdot z - y^{2} \\cdot z} + iz \\cdot \\left(\\frac{x^{2} \\cdot z}{x^{2} \\cdot z - y^{2} \\cdot z} - \\frac{y^{2} \\cdot z}{x^{2} \\cdot z - y^{2} \\cdot z}\\right) + \\frac{\\mu_{0} \\cdot x^{2} \\cdot z}{x^{2} \\cdot z - y^{2} \\cdot z} + \\frac{\\mu_{1} \\cdot x^{2} \\cdot z}{x^{2} \\cdot z - y^{2} \\cdot z} - \\frac{\\mu_{2} \\cdot y^{2} \\cdot z}{x^{2} \\cdot z - y^{2} \\cdot z} - \\frac{\\mu_{3} \\cdot y^{2} \\cdot z}{x^{2} \\cdot z - y^{2} \\cdot z} + \\mu_{4}$"
      ],
      "text/plain": [
       "<IPython.core.display.Math object>"
      ]
     },
     "metadata": {},
     "output_type": "display_data"
    },
    {
     "data": {
      "application/vnd.jupyter.widget-view+json": {
       "model_id": "96b4c2fd501a40a89ae663346843ea65",
       "version_major": 2,
       "version_minor": 0
      },
      "text/plain": [
       "interactive(children=(IntSlider(value=10, description='width', max=30, min=-10), IntSlider(value=10, descripti…"
      ]
     },
     "metadata": {},
     "output_type": "display_data"
    }
   ],
   "source": [
    "alg1=GraficaDeProceso(['x','y','z'],['x*x', 'op0*z', 'y*y', 'op2*z', 'op1-op3'])\n",
    "#alg1.mostrar()\n",
    "alg1.ErrorInherente()\n",
    "alg1.ErrorRedondeo()\n",
    "alg1.ErrorTotal()\n",
    "alg1.mostrar()"
   ]
  }
 ],
 "metadata": {
  "interpreter": {
   "hash": "002ad06040a9fe4eb80f0c3cfc0bd5972c546418bb4a0847870c8f92588ec4b4"
  },
  "kernelspec": {
   "display_name": "Python 3 (ipykernel)",
   "language": "python",
   "name": "python3"
  },
  "language_info": {
   "codemirror_mode": {
    "name": "ipython",
    "version": 3
   },
   "file_extension": ".py",
   "mimetype": "text/x-python",
   "name": "python",
   "nbconvert_exporter": "python",
   "pygments_lexer": "ipython3",
   "version": "3.9.7"
  }
 },
 "nbformat": 4,
 "nbformat_minor": 2
}
